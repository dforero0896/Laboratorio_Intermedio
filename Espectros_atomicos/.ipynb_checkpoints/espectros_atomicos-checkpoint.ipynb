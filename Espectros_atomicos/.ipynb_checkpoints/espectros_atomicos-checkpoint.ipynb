{
 "cells": [
  {
   "cell_type": "code",
   "execution_count": 46,
   "metadata": {
    "collapsed": true
   },
   "outputs": [],
   "source": [
    "import numpy as np\n",
    "import matplotlib.pyplot as plt\n",
    "%matplotlib inline\n",
    "from scipy import stats\n",
    "def perc_error(teo, exp):\n",
    "    return 100*abs(teo-exp)/teo"
   ]
  },
  {
   "cell_type": "code",
   "execution_count": 36,
   "metadata": {},
   "outputs": [
    {
     "name": "stdout",
     "output_type": "stream",
     "text": [
      "0.494949541508\n",
      "0.993062199207\n"
     ]
    },
    {
     "data": {
      "image/png": "[encoded data removed]",
      "text/plain": [
       "<matplotlib.figure.Figure at 0x7f982337f510>"
      ]
     },
     "metadata": {},
     "output_type": "display_data"
    }
   ],
   "source": [
    "amarilla = 579.\n",
    "verde = 546.1\n",
    "am_verd_nm = verde-amarilla #nm\n",
    "am_verd = 2.5 #cm\n",
    "en_nm = np.array([579,577, 546.1, 435.8])\n",
    "en_cm=np.array([0, 0.2, 2.5, 16.8])\n",
    "plt.errorbar(en_cm, en_nm,xerr=0.05,marker ='x' , linestyle='None', label='Mediciones')\n",
    "slope, intercept, r_value, p_value, std_err = stats.linregress(en_cm, en_nm)\n",
    "def cm_to_nm(dist_cm):\n",
    "    return slope*dist_cm+intercept\n",
    "x = np.linspace(0, 18, 100)\n",
    "plt.plot(x, cm_to_nm(x), lw=2, \\\n",
    "         label='$\\lambda = (%.2fd + %.2f)\\pm %.2f$'%(slope, intercept, std_err))\n",
    "plt.xlabel('$d (cm)$', fontsize=15)\n",
    "plt.ylabel('$\\lambda (nm)$', fontsize=15)\n",
    "plt.legend(loc=0)\n",
    "plt.gcf()\n",
    "plt.savefig('lambda.png', dpi=300)\n",
    "print std_err\n",
    "print r_value**2"
   ]
  },
  {
   "cell_type": "code",
   "execution_count": 27,
   "metadata": {},
   "outputs": [
    {
     "name": "stdout",
     "output_type": "stream",
     "text": [
      "$d(\\pm0.05cm)$ & $\\lambda(nm)$\\\\\\hline\n",
      "0.0 & 579.0\\\\\n",
      "0.2 & 577.0\\\\\n",
      "2.5 & 546.1\\\\\n",
      "16.8 & 435.8\\\\\n"
     ]
    }
   ],
   "source": [
    "print '$d(\\pm0.05cm)$ & $\\lambda(nm)$\\\\\\\\\\\\hline'\n",
    "for i in range(len(en_cm)):\n",
    "    print '%.1f & %.1f\\\\\\\\'%(en_cm[i], en_nm[i])"
   ]
  },
  {
   "cell_type": "code",
   "execution_count": 35,
   "metadata": {},
   "outputs": [
    {
     "name": "stdout",
     "output_type": "stream",
     "text": [
      "[ 572.78783904  506.63014977  496.58088051  468.94539005  432.93550855]\n",
      "$d(\\pm0.05cm)$&$\\lambda(\\pm0.49 nm)$&$\\lambda_{teo}(nm)$&error\\\\\\hline\n",
      "0.3 & 572.79 & 587.50 & 2.50\\\\\n",
      "8.2 & 506.63 & 501.50 & 1.02\\\\\n",
      "9.4 & 496.58 & 492.10 & 0.91\\\\\n",
      "12.7 & 468.95 & 471.30 & 0.50\\\\\n",
      "17.0 & 432.94 & 447.10 & 3.17\\\\\n"
     ]
    }
   ],
   "source": [
    "He_cm = np.array([0.3, 8.2,9.4, 12.7, 17])\n",
    "print cm_to_nm(He_cm)\n",
    "He_nm=np.array([587.5, 501.5, 492.1, 471.3, 447.1])\n",
    "He_cm_ = {'amarillo':0.3, 'cyan1':8.2, 'cyan2':9.4, 'azul':12.7,'morado':17}\n",
    "print '$d(\\pm0.05cm)$&$\\lambda(\\pm%.2f nm)$&$\\lambda_{teo}(nm)$&error\\\\\\\\\\\\hline'%std_err\n",
    "for i in range(len(He_cm)):\n",
    "    print '%.1f & %.2f & %.2f & %.2f\\\\\\\\'%(He_cm[i], \\\n",
    "                                           cm_to_nm(He_cm)[i],\\\n",
    "                                           He_nm[i], \\\n",
    "                                           100*abs(He_nm[i]-cm_to_nm(He_cm)[i])/He_nm[i])"
   ]
  },
  {
   "cell_type": "code",
   "execution_count": 41,
   "metadata": {},
   "outputs": [
    {
     "name": "stdout",
     "output_type": "stream",
     "text": [
      "[ 489.04392857]\n",
      "11037.3270419\n",
      "10905632.4428 10971679.3527\n",
      "0.601976304141\n",
      "10894595.1158\n",
      "$d(\\pm0.05cm)$&$\\lambda(\\pm0.49 nm)$&$\\lambda_{teo}(nm)\\\\\\hline$\n",
      "10.3 & 489.04 & 486.10\\\\\n"
     ]
    }
   ],
   "source": [
    "H_cm_={'roja':-3.5, 'cyan':10.3}\n",
    "H_cm=np.array([10.3])\n",
    "print cm_to_nm(H_cm)\n",
    "H_nm = np.array([486.1])\n",
    "Rydberg= (cm_to_nm(H_cm[0])*1e-9*(2**-2 - 4**-2))**-1\n",
    "Rydberg_teo= (H_nm[0]*1e-9*(2**-2 - 4**-2))**-1\n",
    "ryd_unc = Rydberg*(std_err/cm_to_nm(H_cm[0]))\n",
    "print ryd_unc\n",
    "print Rydberg, Rydberg_teo\n",
    "print 100*abs(Rydberg_teo-Rydberg)/Rydberg_teo\n",
    "#Rydberg_teo=10973731.6\n",
    "print Rydberg-ryd_unc\n",
    "print '$d(\\pm0.05cm)$&$\\lambda(\\pm%.2f nm)$&$\\lambda_{teo}(nm)\\\\\\\\\\\\hline$'%std_err\n",
    "for i in range(len(H_cm)):\n",
    "    print '%.1f & %.2f & %.2f\\\\\\\\'%(H_cm[i], cm_to_nm(H_cm)[i], H_nm[i])"
   ]
  },
  {
   "cell_type": "code",
   "execution_count": 54,
   "metadata": {},
   "outputs": [
    {
     "name": "stdout",
     "output_type": "stream",
     "text": [
      "$d(\\pm0.05cm)$&$\\lambda(\\pm0.49 nm)$&$\\lambda_{teo}(nm)$&error\\\\\\hline$\n",
      "0.0 & 575.30 & 576.44 & 0.20\\\\\n",
      "0.3 & 572.79 & 574.83 & 0.36\\\\\n",
      "0.7 & 569.44 & 571.92 & 0.43\\\\\n",
      "1.0 & 566.93 & 565.67 & 0.22\\\\\n",
      "1.7 & 561.06 & 556.28 & 0.86\\\\\n",
      "7.0 & 516.68 & 514.49 & 0.42\\\\\n",
      "12.7 & 468.95 & 470.44 & 0.32\\\\\n"
     ]
    }
   ],
   "source": [
    "Ne_cm = np.array([0, 0.3, 0.7, 1, 1.7,  7, 12.7])\n",
    "Ne_cm_debiles=np.array([1.4,2.5, 3.1, 6.5])\n",
    "Ne_nm = np.array([5764.4188,5748.2985, 5719.2248,\\\n",
    "                  5656.6588, 5562.7662,5144.9384,4704.3949])\n",
    "Ne_nm/=10\n",
    "\n",
    "print '$d(\\pm0.05cm)$&$\\lambda(\\pm%.2f nm)$&$\\lambda_\\\n",
    "{teo}(nm)$&error\\\\\\\\\\\\hline$'%std_err\n",
    "for i in range(len(Ne_cm)):\n",
    "    print '%.1f & %.2f & %.2f & %.2f\\\\\\\\'%(Ne_cm[i],\\\n",
    "                                           cm_to_nm(Ne_cm)[i],\\\n",
    "                                           Ne_nm[i], perc_error(Ne_nm[i],\\\n",
    "                                                                cm_to_nm(Ne_cm)[i]))"
   ]
  },
  {
   "cell_type": "code",
   "execution_count": 55,
   "metadata": {},
   "outputs": [
    {
     "name": "stdout",
     "output_type": "stream",
     "text": [
      "[ 474.80746379  452.19660796  443.82221691  436.28526497]\n",
      "$d(\\pm0.05cm)$&$\\lambda(\\pm0.49 nm)$&$\\lambda_{teo}(nm)$&error\\\\\\hline$\n",
      "12.0 & 474.81 & 473.42 & 0.29\\\\\n",
      "14.7 & 452.20 & 452.19 & 0.00\\\\\n",
      "15.7 & 443.82 & 444.81 & 0.22\\\\\n",
      "16.6 & 436.29 & 436.92 & 0.15\\\\\n"
     ]
    }
   ],
   "source": [
    "Xe_cm = np.array([12, 14.7, 15.7, 16.6])\n",
    "Xe_cm_debiles=np.array([13.1, 13.5])\n",
    "Xe_nm = np.array([4734.152, 4521.86, 4448.13, 4369.20])\n",
    "Xe_nm/=10\n",
    "print cm_to_nm(Xe_cm)\n",
    "print '$d(\\pm0.05cm)$&$\\lambda(\\pm%.2f nm)$&$\\lambda_\\\n",
    "{teo}(nm)$&error\\\\\\\\\\\\hline$'%std_err\n",
    "for i in range(len(Xe_cm)):\n",
    "    print '%.1f & %.2f & %.2f & %.2f\\\\\\\\'%(Xe_cm[i],\\\n",
    "                                           cm_to_nm(Xe_cm)[i],\\\n",
    "                                           Xe_nm[i], perc_error(Xe_nm[i],\\\n",
    "                                                                cm_to_nm(Xe_cm)[i]))"
   ]
  },
  {
   "cell_type": "code",
   "execution_count": 57,
   "metadata": {},
   "outputs": [
    {
     "name": "stdout",
     "output_type": "stream",
     "text": [
      "[ 571.11296083  554.36417874  548.502105    498.25575872  464.75819453\n",
      "  444.65965601  413.67440914]\n",
      "$d(\\pm0.05cm)$&$\\lambda(\\pm0.49 nm)$&$\\lambda_{teo}(nm)\\\\\\hline$\n",
      "0.5 & 571.11 & 565.07 & 1.07\\\\\n",
      "2.5 & 554.36 & 555.87 & 0.27\\\\\n",
      "3.2 & 548.50 & 549.59 & 0.20\\\\\n",
      "9.2 & 498.26 & 496.51 & 0.35\\\\\n",
      "13.2 & 464.76 & 463.72 & 0.22\\\\\n",
      "15.6 & 444.66 & 444.89 & 0.05\\\\\n",
      "19.3 & 413.67 & 413.17 & 0.12\\\\\n"
     ]
    }
   ],
   "source": [
    "Ar_cm={'rojo':0.5, 'rojo2':2.5,\\\n",
    "       'amarilla':3.2,  'cyan1':9.2, 'cyan2':13.2, 'azul':15.6, 'morada':19.3}\n",
    "Ar_cm_debiles={'cyan':5.2}\n",
    "Ar_nm = np.array([5650.704, 5558.702,5495.874, 4965.080 , 4637.233, 4448.879 , 4131.724])\n",
    "Ar_nm/=10\n",
    "print cm_to_nm(np.array(sorted(Ar_cm.values())))\n",
    "print '$d(\\pm0.05cm)$&$\\lambda(\\pm%.2f nm)$&$\\lambda_{teo}(nm)\\\\\\\\\\\\hline$'%std_err\n",
    "for i in range(len(Ar_cm.values())):\n",
    "    print '%.1f & %.2f & %.2f & %.2f\\\\\\\\'%(sorted(Ar_cm.values())[i],\\\n",
    "                                    cm_to_nm(np.array(sorted(Ar_cm.values())))[i],\\\n",
    "                                    Ar_nm[i], perc_error(Ar_nm[i], cm_to_nm(np.array(sorted(Ar_cm.values())))[i]))"
   ]
  },
  {
   "cell_type": "code",
   "execution_count": 58,
   "metadata": {},
   "outputs": [
    {
     "name": "stdout",
     "output_type": "stream",
     "text": [
      "[ 545.98978769  526.72868828  409.48721361]\n",
      "$d(\\pm0.05cm)$&$\\lambda(\\pm0.49 nm)$&$\\lambda_{teo}(nm)\\\\\\hline$\n",
      "3.5 & 545.99 & 546.82 & 0.15\\\\\n",
      "5.8 & 526.73 & 530.87 & 0.78\\\\\n",
      "19.8 & 409.49 & 409.87 & 0.09\\\\\n"
     ]
    }
   ],
   "source": [
    "Kr_cm = {'amarilla':3.5, 'verde':5.8, 'morada':19.8}\n",
    "Kr_nm = np.array([5468.17, 5308.66, 4098.729])\n",
    "Kr_nm/=10\n",
    "print cm_to_nm(np.array(sorted(Kr_cm.values())))\n",
    "print '$d(\\pm0.05cm)$&$\\lambda(\\pm%.2f nm)$&$\\lambda_{teo}(nm)\\\\\\\\\\\\hline$'%std_err\n",
    "for i in range(len(Kr_cm.values())):\n",
    "    print '%.1f & %.2f & %.2f & %.2f\\\\\\\\'%(sorted(Kr_cm.values())[i],\\\n",
    "                                    cm_to_nm(np.array(sorted(Kr_cm.values())))[i],\\\n",
    "                                    Kr_nm[i], perc_error(Kr_nm[i], cm_to_nm(np.array(sorted(Kr_cm.values())))[i]))"
   ]
  },
  {
   "cell_type": "code",
   "execution_count": null,
   "metadata": {
    "collapsed": true
   },
   "outputs": [],
   "source": []
  },
  {
   "cell_type": "code",
   "execution_count": null,
   "metadata": {
    "collapsed": true
   },
   "outputs": [],
   "source": []
  }
 ],
 "metadata": {
  "anaconda-cloud": {},
  "kernelspec": {
   "display_name": "Python [default]",
   "language": "python",
   "name": "python2"
  },
  "language_info": {
   "codemirror_mode": {
    "name": "ipython",
    "version": 2
   },
   "file_extension": ".py",
   "mimetype": "text/x-python",
   "name": "python",
   "nbconvert_exporter": "python",
   "pygments_lexer": "ipython2",
   "version": "2.7.12"
  }
 },
 "nbformat": 4,
 "nbformat_minor": 1
}
