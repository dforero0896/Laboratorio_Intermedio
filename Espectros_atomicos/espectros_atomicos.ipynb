{
 "cells": [
  {
   "cell_type": "code",
   "execution_count": 1,
   "metadata": {
    "collapsed": true
   },
   "outputs": [],
   "source": [
    "import numpy as np\n",
    "import matplotlib.pyplot as plt\n",
    "%matplotlib inline\n",
    "from scipy import stats"
   ]
  },
  {
   "cell_type": "code",
   "execution_count": 22,
   "metadata": {},
   "outputs": [
    {
     "name": "stdout",
     "output_type": "stream",
     "text": [
      "0.494949541508\n"
     ]
    },
    {
     "data": {
      "image/png": "[encoded data removed]",
      "text/plain": [
       "<matplotlib.figure.Figure at 0x7f9823089050>"
      ]
     },
     "metadata": {},
     "output_type": "display_data"
    }
   ],
   "source": [
    "amarilla = 579.\n",
    "verde = 546.1\n",
    "am_verd_nm = verde-amarilla #nm\n",
    "am_verd = 2.5 #cm\n",
    "en_nm = np.array([579,577, 546.1, 435.8])\n",
    "en_cm=np.array([0, 0.2, 2.5, 16.8])\n",
    "plt.errorbar(en_cm, en_nm,xerr=0.05,marker ='x' , linestyle='None', label='Mediciones')\n",
    "slope, intercept, r_value, p_value, std_err = stats.linregress(en_cm, en_nm)\n",
    "def cm_to_nm(dist_cm):\n",
    "    return slope*dist_cm+intercept\n",
    "x = np.linspace(0, 18, 100)\n",
    "plt.plot(x, cm_to_nm(x), lw=2, label='$\\lambda = %.2fd + %.2f$'%(slope, intercept))\n",
    "plt.xlabel('$d (cm)$', fontsize=15)\n",
    "plt.ylabel('$\\lambda (nm)$', fontsize=15)\n",
    "plt.legend(loc=0)\n",
    "plt.gcf()\n",
    "plt.savefig('lambda.png', dpi=300)\n",
    "print std_err"
   ]
  },
  {
   "cell_type": "code",
   "execution_count": 27,
   "metadata": {},
   "outputs": [
    {
     "name": "stdout",
     "output_type": "stream",
     "text": [
      "$d(\\pm0.05cm)$ & $\\lambda(nm)$\\\\\\hline\n",
      "0.0 & 579.0\\\\\n",
      "0.2 & 577.0\\\\\n",
      "2.5 & 546.1\\\\\n",
      "16.8 & 435.8\\\\\n"
     ]
    }
   ],
   "source": [
    "print '$d(\\pm0.05cm)$ & $\\lambda(nm)$\\\\\\\\\\\\hline'\n",
    "for i in range(len(en_cm)):\n",
    "    print '%.1f & %.1f\\\\\\\\'%(en_cm[i], en_nm[i])"
   ]
  },
  {
   "cell_type": "code",
   "execution_count": 29,
   "metadata": {},
   "outputs": [
    {
     "name": "stdout",
     "output_type": "stream",
     "text": [
      "[ 572.78783904  506.63014977  496.58088051  468.94539005  432.93550855]\n",
      "$d(\\pm0.05cm)$&$\\lambda(\\pm0.49 nm)$&$\\lambda_{teo}(nm)\\\\\\hline$\n",
      "0.3 & 572.79 & 587.50\\\\\n",
      "8.2 & 506.63 & 501.50\\\\\n",
      "9.4 & 496.58 & 492.10\\\\\n",
      "12.7 & 468.95 & 471.30\\\\\n",
      "17.0 & 432.94 & 447.10\\\\\n"
     ]
    }
   ],
   "source": [
    "He_cm = np.array([0.3, 8.2,9.4, 12.7, 17])\n",
    "print cm_to_nm(He_cm)\n",
    "He_nm=np.array([587.5, 501.5, 492.1, 471.3, 447.1])\n",
    "He_cm_ = {'amarillo':0.3, 'cyan1':8.2, 'cyan2':9.4, 'azul':12.7,'morado':17}\n",
    "print '$d(\\pm0.05cm)$&$\\lambda(\\pm%.2f nm)$&$\\lambda_{teo}(nm)\\\\\\\\\\\\hline$'%std_err\n",
    "for i in range(len(He_cm)):\n",
    "    print '%.1f & %.2f & %.2f\\\\\\\\'%(He_cm[i], cm_to_nm(He_cm)[i], He_nm[i])"
   ]
  },
  {
   "cell_type": "code",
   "execution_count": 31,
   "metadata": {},
   "outputs": [
    {
     "name": "stdout",
     "output_type": "stream",
     "text": [
      "[ 489.04392857]\n",
      "10905632.4428 10971679.3527\n",
      "0.601976304141\n",
      "$d(\\pm0.05cm)$&$\\lambda(\\pm0.49 nm)$&$\\lambda_{teo}(nm)\\\\\\hline$\n",
      "10.3 & 489.04 & 486.10\\\\\n"
     ]
    }
   ],
   "source": [
    "H_cm_={'roja':-3.5, 'cyan':10.3}\n",
    "H_cm=np.array([10.3])\n",
    "print cm_to_nm(H_cm)\n",
    "H_nm = np.array([486.1])\n",
    "Rydberg= (cm_to_nm(H_cm[0])*1e-9*(2**-2 - 4**-2))**-1\n",
    "Rydberg_teo= (H_nm[0]*1e-9*(2**-2 - 4**-2))**-1\n",
    "\n",
    "print Rydberg, Rydberg_teo\n",
    "print 100*abs(Rydberg_teo-Rydberg)/Rydberg_teo\n",
    "#Rydberg_teo=10973731.6\n",
    "\n",
    "print '$d(\\pm0.05cm)$&$\\lambda(\\pm%.2f nm)$&$\\lambda_{teo}(nm)\\\\\\\\\\\\hline$'%std_err\n",
    "for i in range(len(H_cm)):\n",
    "    print '%.1f & %.2f & %.2f\\\\\\\\'%(H_cm[i], cm_to_nm(H_cm)[i], H_nm[i])"
   ]
  },
  {
   "cell_type": "code",
   "execution_count": 5,
   "metadata": {},
   "outputs": [
    {
     "name": "stdout",
     "output_type": "stream",
     "text": [
      "[ 575.30015636  572.78783904  569.43808262  566.92576531  563.57600889\n",
      "  561.06369158  554.36417874  549.33954411  520.86661455  516.67941902\n",
      "  468.94539005]\n"
     ]
    }
   ],
   "source": [
    "Ne_cm = np.array([0, 0.3, 0.7, 1, 1.4, 1.7, 2.5, 3.1, 6.5, 7, 12.7])\n",
    "print cm_to_nm(Ne_cm)\n",
    "print '$d(\\pm0.05cm)$&$\\lambda(\\pm%.2f nm)$&$\\lambda_{teo}(nm)\\\\\\\\\\\\hline$'%std_err\n",
    "for i in range(len(Ne_cm)):\n",
    "    print '%.1f & %.2f & %.2f\\\\\\\\'%(Ne_cm[i], cm_to_nm(Ne_cm)[i], Ne_nm[i])"
   ]
  },
  {
   "cell_type": "code",
   "execution_count": 6,
   "metadata": {},
   "outputs": [
    {
     "name": "stdout",
     "output_type": "stream",
     "text": [
      "[ 474.80746379  465.59563363  462.24587721  452.19660796  443.82221691\n",
      "  436.28526497]\n"
     ]
    }
   ],
   "source": [
    "Xe_cm = np.array([12, 13.1, 13.5, 14.7, 15.7, 16.6])\n",
    "print cm_to_nm(Xe_cm)\n",
    "print '$d(\\pm0.05cm)$&$\\lambda(\\pm%.2f nm)$&$\\lambda_{teo}(nm)\\\\\\\\\\\\hline$'%std_err\n",
    "for i in range(len(Xe_cm)):\n",
    "    print '%.1f & %.2f & %.2f\\\\\\\\'%(Xe_cm[i], cm_to_nm(Xe_cm)[i], Xe_nm[i])"
   ]
  },
  {
   "cell_type": "code",
   "execution_count": 7,
   "metadata": {},
   "outputs": [
    {
     "name": "stdout",
     "output_type": "stream",
     "text": [
      "[ 571.11296083  554.36417874  548.502105    531.75332291  498.25575872\n",
      "  464.75819453  444.65965601  413.67440914]\n"
     ]
    }
   ],
   "source": [
    "Ar_cm={'rojo':0.5, 'rojo2':2.5,\\\n",
    "       'amarilla':3.2, 'cyan':5.2, 'cyan1':9.2, 'cyan2':13.2, 'azul':15.6, 'morada':19.3}\n",
    "print cm_to_nm(np.array(sorted(Ar_cm.values())))\n",
    "print '$d(\\pm0.05cm)$&$\\lambda(\\pm%.2f nm)$&$\\lambda_{teo}(nm)\\\\\\\\\\\\hline$'%std_err\n",
    "for i in range(len(Ar_cm.values())):\n",
    "    print '%.1f & %.2f & %.2f\\\\\\\\'%(sorted(Ar_cm.values())[i],\\\n",
    "                                    cm_to_nm(np.array(sorted(Ar_cm.values())))[i],\\\n",
    "                                    Ar_nm[i])"
   ]
  },
  {
   "cell_type": "code",
   "execution_count": 8,
   "metadata": {},
   "outputs": [
    {
     "name": "stdout",
     "output_type": "stream",
     "text": [
      "[ 545.98978769  526.72868828  409.48721361]\n"
     ]
    }
   ],
   "source": [
    "Kr_cm = {'amarilla':3.5, 'verde':5.8, 'morada':19.8}\n",
    "print cm_to_nm(np.array(sorted(Kr_cm.values())))\n",
    "print '$d(\\pm0.05cm)$&$\\lambda(\\pm%.2f nm)$&$\\lambda_{teo}(nm)\\\\\\\\\\\\hline$'%std_err\n",
    "for i in range(len(Kr_cm.values())):\n",
    "    print '%.1f & %.2f & %.2f\\\\\\\\'%(sorted(Kr_cm.values())[i],\\\n",
    "                                    cm_to_nm(np.array(sorted(Kr_cm.values())))[i],\\\n",
    "                                    Kr_nm[i])"
   ]
  },
  {
   "cell_type": "code",
   "execution_count": null,
   "metadata": {
    "collapsed": true
   },
   "outputs": [],
   "source": []
  },
  {
   "cell_type": "code",
   "execution_count": null,
   "metadata": {
    "collapsed": true
   },
   "outputs": [],
   "source": []
  }
 ],
 "metadata": {
  "anaconda-cloud": {},
  "kernelspec": {
   "display_name": "Python [default]",
   "language": "python",
   "name": "python2"
  },
  "language_info": {
   "codemirror_mode": {
    "name": "ipython",
    "version": 2
   },
   "file_extension": ".py",
   "mimetype": "text/x-python",
   "name": "python",
   "nbconvert_exporter": "python",
   "pygments_lexer": "ipython2",
   "version": "2.7.12"
  }
 },
 "nbformat": 4,
 "nbformat_minor": 1
}
