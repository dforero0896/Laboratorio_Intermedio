{
 "cells": [
  {
   "cell_type": "code",
   "execution_count": 9,
   "metadata": {
    "collapsed": true
   },
   "outputs": [],
   "source": [
    "import numpy as np\n",
    "import matplotlib.pyplot as plt\n",
    "%matplotlib inline"
   ]
  },
  {
   "cell_type": "code",
   "execution_count": 37,
   "metadata": {
    "collapsed": true
   },
   "outputs": [],
   "source": [
    "zntpp_slope_1 = 2.34481581e-06\n",
    "zntpp_slope_unc_1 = 7.13334313474e-07\n",
    "zntpp_intercept_1 = -1.01998899e-06\n",
    "zntpp_intercept_unc_1 = 1.13702188394e-06\n",
    "\n",
    "\n",
    "\n",
    "zntpp_slope_2 =  6.04353620e-05\n",
    "zntpp_slope_unc_2 = 1.23647744083e-05\n",
    "zntpp_intercept_2 = -2.86658404e-06\n",
    "zntpp_intercept_unc_2 = 1.12340251676e-06\n",
    "\n",
    "\n",
    "rhob_slope_1 = 1.86993237e-05\n",
    "rhob_slope_unc_1 = 3.38038188574e-07\n",
    "rhob_intercept_1 = 3.11751602e-07\n",
    "rhob_intercept_unc_1 = 5.39838249624e-08\n",
    "\n",
    "\n",
    "rhob_slope_2 = 6.56464123e-05\n",
    "rhob_slope_unc_2 = 1.62953214353e-06\n",
    "rhob_intercept_2 =  3.00696048e-07\n",
    "rhob_intercept_unc_2 = 7.42920359869e-08\n",
    "\n",
    "\n",
    "rhob_slope_3 = 2.08950781e-04\n",
    "rhob_slope_unc_3 = 2.18451827247e-05\n",
    "rhob_intercept_3 = 2.02322034e-07\n",
    "rhob_intercept_unc_3 = 2.20594627954e-07"
   ]
  },
  {
   "cell_type": "code",
   "execution_count": 46,
   "metadata": {},
   "outputs": [
    {
     "name": "stdout",
     "output_type": "stream",
     "text": [
      "Please type: ZnTPP or RhB? ZnTPP\n",
      "Please type the filename (with extension) ./measured_spectra/tpp_our_4.csv\n"
     ]
    }
   ],
   "source": [
    "substance = raw_input(\"Please type: ZnTPP or RhB? \")\n",
    "filename = raw_input(\"Please type the filename (with extension) \")"
   ]
  },
  {
   "cell_type": "code",
   "execution_count": 52,
   "metadata": {},
   "outputs": [
    {
     "name": "stdout",
     "output_type": "stream",
     "text": [
      " The concentration of the sample is: (concentration, uncertainty)\n",
      "  (4.7619661078044986e-06, 2.2697993240101194e-06)\n"
     ]
    }
   ],
   "source": [
    "spectrum = np.loadtxt(filename, dtype=float, delimiter=';', skiprows =2)\n",
    "\n",
    "if(substance=='RhB'):\n",
    "    cut_min_2 = min(np.where(spectrum[:,0]>220)[0])\n",
    "    cut_max_2 = max(np.where(spectrum[:,0]<300)[0])\n",
    "\n",
    "    cut_min_3 = min(np.where(spectrum[:,0]>320)[0])\n",
    "    cut_max_3 = max(np.where(spectrum[:,0]<400)[0])\n",
    "\n",
    "    cut_min_1 = min(np.where(spectrum[:,0]>450)[0])\n",
    "    cut_max_1 = max(np.where(spectrum[:,0]<600)[0])\n",
    "\n",
    "    A_1 = max(spectrum[cut_min_1:cut_max_1,1])\n",
    "    A_2 = max(spectrum[cut_min_2:cut_max_2,1])\n",
    "    A_3 = max(spectrum[cut_min_3:cut_max_3,1])\n",
    "    def cfromA_1(A):\n",
    "        slope_arr = np.array([rhob_slope_1, rhob_slope_1+rhob_slope_unc_1, rhob_slope_1-rhob_slope_unc_1])\n",
    "        intercept_arr = np.array([rhob_intercept_1,rhob_intercept_1+rhob_intercept_unc_1,rhob_intercept_1-rhob_intercept_unc_1])\n",
    "        conc_arr = slope_arr*A+intercept_arr\n",
    "        return np.array([np.mean(conc_arr), np.std(conc_arr)])\n",
    "    def cfromA_2(A):\n",
    "        slope_arr = np.array([rhob_slope_2, rhob_slope_2+rhob_slope_unc_2, rhob_slope_2-rhob_slope_unc_2])\n",
    "        intercept_arr = np.array([rhob_intercept_2,rhob_intercept_2+rhob_intercept_unc_2,rhob_intercept_2-rhob_intercept_unc_2])\n",
    "        conc_arr = slope_arr*A+intercept_arr\n",
    "        return np.array([np.mean(conc_arr), np.std(conc_arr)])\n",
    "    def cfromA_3(A):\n",
    "        slope_arr = np.array([rhob_slope_3, rhob_slope_3+rhob_slope_unc_3, rhob_slope_3-rhob_slope_unc_3])\n",
    "        intercept_arr = np.array([rhob_intercept_3,rhob_intercept_3+rhob_intercept_unc_3,rhob_intercept_3-rhob_intercept_unc_3])\n",
    "        conc_arr = slope_arr*A+intercept_arr\n",
    "        return np.array([np.mean(conc_arr), np.std(conc_arr)])\n",
    "\n",
    "    def give_result(res1, res2, res3):\n",
    "        return np.mean([res1[0], res2[0], res3[0]]), np.mean([res1[1], res2[1], res3[1]])\n",
    "    print \"The concentration of the sample is: (concentration, uncertainty)\\n \",give_result(cfromA_1(A_1), cfromA_2(A_2), cfromA_3(A_3))\n",
    "    \n",
    "elif(substance=='ZnTPP'):\n",
    "    cut_min_2 = min(np.where(spectrum[:,0]>500)[0])\n",
    "    cut_max_2 = max(np.where(spectrum[:,0]<600)[0])\n",
    "\n",
    "    cut_min_1 = min(np.where(spectrum[:,0]>400)[0])\n",
    "    cut_max_1 = max(np.where(spectrum[:,0]<450)[0])\n",
    "\n",
    "    A_1 = max(spectrum[cut_min_1:cut_max_1,1])\n",
    "    A_2 = max(spectrum[cut_min_2:cut_max_2,1])\n",
    "    def cfromA_1(A):\n",
    "        slope_arr = np.array([zntpp_slope_1, zntpp_slope_1+zntpp_slope_unc_1, zntpp_slope_1-zntpp_slope_unc_1])\n",
    "        intercept_arr = np.array([zntpp_intercept_1,zntpp_intercept_1+zntpp_intercept_unc_1,zntpp_intercept_1-zntpp_intercept_unc_1])\n",
    "        conc_arr = slope_arr*A+intercept_arr\n",
    "        return np.array([np.mean(conc_arr), np.std(conc_arr)])\n",
    "    def cfromA_2(A):\n",
    "        slope_arr = np.array([zntpp_slope_2, zntpp_slope_2+zntpp_slope_unc_2, zntpp_slope_2-zntpp_slope_unc_2])\n",
    "        intercept_arr = np.array([zntpp_intercept_2,zntpp_intercept_2+zntpp_intercept_unc_2,zntpp_intercept_2-zntpp_intercept_unc_2])\n",
    "        conc_arr = slope_arr*A+intercept_arr\n",
    "        return np.array([np.mean(conc_arr), np.std(conc_arr)])\n",
    "\n",
    "    def give_result(res1, res2):\n",
    "        return np.mean([res1[0], res2[0]]), np.mean([res1[1], res2[1]])\n",
    "    print \"The concentration of the sample is: (concentration, uncertainty)\\n \",give_result(cfromA_1(A_1), cfromA_2(A_2))\n"
   ]
  },
  {
   "cell_type": "code",
   "execution_count": 48,
   "metadata": {},
   "outputs": [
    {
     "ename": "SyntaxError",
     "evalue": "invalid syntax (<ipython-input-48-42dde0b5df9e>, line 1)",
     "output_type": "error",
     "traceback": [
      "\u001b[0;36m  File \u001b[0;32m\"<ipython-input-48-42dde0b5df9e>\"\u001b[0;36m, line \u001b[0;32m1\u001b[0m\n\u001b[0;31m    else if(substance='ZnTPP'):\u001b[0m\n\u001b[0m       ^\u001b[0m\n\u001b[0;31mSyntaxError\u001b[0m\u001b[0;31m:\u001b[0m invalid syntax\n"
     ]
    }
   ],
   "source": []
  },
  {
   "cell_type": "code",
   "execution_count": 54,
   "metadata": {
    "collapsed": true
   },
   "outputs": [],
   "source": [
    "zn_calc = np.array([4.76e-6, 2.22e-6, 4.45e-7])\n",
    "zn_real = np.array([5.1e-6, 2.5e-6, 6.3e-7])\n",
    "zn_unc = np.array([2.27e-6, 1.75e-6, 1.47e-6])\n",
    "zn_err = abs(zn_real-zn_calc)/zn_real\n",
    "rho_calc = np.array([6.07e-7, 6.61e-7, 2.97e-6])\n",
    "rho_unc = np.array([1.07e-7, 1.17e-7, 2.5e-7])\n",
    "rho_real = np.array([6e-7, 4e-7, 3e-7])\n",
    "rho_err = abs(rho_real-rho_calc)/rho_real"
   ]
  },
  {
   "cell_type": "code",
   "execution_count": 57,
   "metadata": {},
   "outputs": [
    {
     "name": "stdout",
     "output_type": "stream",
     "text": [
      "$5.10e-06$ & $4.76e-06 \\pm 2.27e-06$ & 0.07\\\\\n",
      "$2.50e-06$ & $2.22e-06 \\pm 1.75e-06$ & 0.11\\\\\n",
      "$6.30e-07$ & $4.45e-07 \\pm 1.47e-06$ & 0.29\\\\\n"
     ]
    }
   ],
   "source": [
    "for i in range(3):\n",
    "    print '$%.2e$ & $%.2e \\pm %.2e$ & %.2f\\\\\\\\'%(zn_real[i], zn_calc[i], zn_unc[i], zn_err[i])"
   ]
  },
  {
   "cell_type": "code",
   "execution_count": 58,
   "metadata": {},
   "outputs": [
    {
     "name": "stdout",
     "output_type": "stream",
     "text": [
      "$6.00e-07$ & $6.07e-07 \\pm 1.07e-07$ & 0.01\\\\\n",
      "$4.00e-07$ & $6.61e-07 \\pm 1.17e-07$ & 0.65\\\\\n",
      "$3.00e-07$ & $2.97e-06 \\pm 2.50e-07$ & 8.90\\\\\n"
     ]
    }
   ],
   "source": [
    "for i in range(3):\n",
    "    print '$%.2e$ & $%.2e \\pm %.2e$ & %.2f\\\\\\\\'%(rho_real[i], rho_calc[i], rho_unc[i], rho_err[i])"
   ]
  },
  {
   "cell_type": "code",
   "execution_count": null,
   "metadata": {
    "collapsed": true
   },
   "outputs": [],
   "source": []
  }
 ],
 "metadata": {
  "anaconda-cloud": {},
  "kernelspec": {
   "display_name": "Python [conda root]",
   "language": "python",
   "name": "conda-root-py"
  },
  "language_info": {
   "codemirror_mode": {
    "name": "ipython",
    "version": 2
   },
   "file_extension": ".py",
   "mimetype": "text/x-python",
   "name": "python",
   "nbconvert_exporter": "python",
   "pygments_lexer": "ipython2",
   "version": "2.7.12"
  }
 },
 "nbformat": 4,
 "nbformat_minor": 1
}
